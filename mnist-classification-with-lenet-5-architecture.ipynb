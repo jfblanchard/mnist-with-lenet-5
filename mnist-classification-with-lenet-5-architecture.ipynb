{
 "cells": [
  {
   "cell_type": "markdown",
   "id": "fb2c7a7e",
   "metadata": {
    "papermill": {
     "duration": 0.009974,
     "end_time": "2023-06-09T17:08:54.667170",
     "exception": false,
     "start_time": "2023-06-09T17:08:54.657196",
     "status": "completed"
    },
    "tags": []
   },
   "source": [
    "# MNIST Classification with LeNet-5 Architecture\n",
    "\n",
    "LeNet-5 was created in 1998 by Yann Lacun, and was pioneering in its time for the performace.  As the -5 in the name suggests, the architecture consists of 5 hidden layers; 3 convolutional layers and 2 fully connected layers.  Two other differences are that it uses tanh as an activation function and average pooling, which have largely been replaced by ReLU and max pooling in current architectures.  Although nearly 25 years old, it may be of interest to others studying neural networks due to its historical significance.\n",
    "\n",
    "This notebook implements the LeNet-5 architecture on the MNIST dataset using Keras.  Portions of the code in this notebook are adapted from the notebook [here](https://github.com/moelgendy/deep_learning_for_vision_systems/blob/master/chapter_05/lenet_implementation_in_keras.ipynb). \n",
    "\n",
    "The original paper is [here](http://yann.lecun.com/exdb/publis/pdf/lecun-01a.pdf)"
   ]
  },
  {
   "cell_type": "markdown",
   "id": "b2390cc6",
   "metadata": {
    "papermill": {
     "duration": 0.009023,
     "end_time": "2023-06-09T17:08:54.685855",
     "exception": false,
     "start_time": "2023-06-09T17:08:54.676832",
     "status": "completed"
    },
    "tags": []
   },
   "source": [
    "## Imports"
   ]
  },
  {
   "cell_type": "code",
   "execution_count": 1,
   "id": "11cd1d9f",
   "metadata": {
    "_cell_guid": "b1076dfc-b9ad-4769-8c92-a6c4dae69d19",
    "_uuid": "8f2839f25d086af736a60e9eeb907d3b93b6e0e5",
    "execution": {
     "iopub.execute_input": "2023-06-09T17:08:54.707026Z",
     "iopub.status.busy": "2023-06-09T17:08:54.706299Z",
     "iopub.status.idle": "2023-06-09T17:09:06.226957Z",
     "shell.execute_reply": "2023-06-09T17:09:06.225935Z"
    },
    "papermill": {
     "duration": 11.534448,
     "end_time": "2023-06-09T17:09:06.229791",
     "exception": false,
     "start_time": "2023-06-09T17:08:54.695343",
     "status": "completed"
    },
    "tags": []
   },
   "outputs": [
    {
     "name": "stderr",
     "output_type": "stream",
     "text": [
      "/opt/conda/lib/python3.10/site-packages/tensorflow_io/python/ops/__init__.py:98: UserWarning: unable to load libtensorflow_io_plugins.so: unable to open file: libtensorflow_io_plugins.so, from paths: ['/opt/conda/lib/python3.10/site-packages/tensorflow_io/python/ops/libtensorflow_io_plugins.so']\n",
      "caused by: ['/opt/conda/lib/python3.10/site-packages/tensorflow_io/python/ops/libtensorflow_io_plugins.so: undefined symbol: _ZN3tsl6StatusC1EN10tensorflow5error4CodeESt17basic_string_viewIcSt11char_traitsIcEENS_14SourceLocationE']\n",
      "  warnings.warn(f\"unable to load libtensorflow_io_plugins.so: {e}\")\n",
      "/opt/conda/lib/python3.10/site-packages/tensorflow_io/python/ops/__init__.py:104: UserWarning: file system plugins are not loaded: unable to open file: libtensorflow_io.so, from paths: ['/opt/conda/lib/python3.10/site-packages/tensorflow_io/python/ops/libtensorflow_io.so']\n",
      "caused by: ['/opt/conda/lib/python3.10/site-packages/tensorflow_io/python/ops/libtensorflow_io.so: undefined symbol: _ZTVN10tensorflow13GcsFileSystemE']\n",
      "  warnings.warn(f\"file system plugins are not loaded: {e}\")\n"
     ]
    }
   ],
   "source": [
    "import numpy as np \n",
    "import pandas as pd \n",
    "pd.set_option('display.max_columns', 50)\n",
    "\n",
    "import matplotlib.pyplot as plt \n",
    "import plotly.express as px\n",
    "import seaborn as sns\n",
    "sns.set_style('darkgrid')\n",
    "\n",
    "import keras\n",
    "import tensorflow as tf\n",
    "from keras.models import Sequential\n",
    "from keras.layers import Conv2D, AveragePooling2D, Flatten, Dense\n",
    "from keras.preprocessing.image import ImageDataGenerator\n",
    "\n",
    "import warnings\n",
    "warnings.filterwarnings(\"ignore\")"
   ]
  },
  {
   "cell_type": "markdown",
   "id": "2080bd5f",
   "metadata": {
    "papermill": {
     "duration": 0.00957,
     "end_time": "2023-06-09T17:09:06.251154",
     "exception": false,
     "start_time": "2023-06-09T17:09:06.241584",
     "status": "completed"
    },
    "tags": []
   },
   "source": [
    "## Load Data and Top Level EDA"
   ]
  },
  {
   "cell_type": "code",
   "execution_count": 2,
   "id": "07fb802e",
   "metadata": {
    "execution": {
     "iopub.execute_input": "2023-06-09T17:09:06.273099Z",
     "iopub.status.busy": "2023-06-09T17:09:06.271983Z",
     "iopub.status.idle": "2023-06-09T17:09:13.061564Z",
     "shell.execute_reply": "2023-06-09T17:09:13.060142Z"
    },
    "papermill": {
     "duration": 6.804526,
     "end_time": "2023-06-09T17:09:13.065365",
     "exception": false,
     "start_time": "2023-06-09T17:09:06.260839",
     "status": "completed"
    },
    "tags": []
   },
   "outputs": [],
   "source": [
    "root_dir = '/kaggle/input/digit-recognizer'\n",
    "train = pd.read_csv(root_dir + '/train.csv') \n",
    "test = pd.read_csv(root_dir + '/test.csv') \n",
    "ss = pd.read_csv(root_dir + '/sample_submission.csv')"
   ]
  },
  {
   "cell_type": "code",
   "execution_count": 3,
   "id": "830c1376",
   "metadata": {
    "execution": {
     "iopub.execute_input": "2023-06-09T17:09:13.088626Z",
     "iopub.status.busy": "2023-06-09T17:09:13.088166Z",
     "iopub.status.idle": "2023-06-09T17:09:13.181049Z",
     "shell.execute_reply": "2023-06-09T17:09:13.179428Z"
    },
    "papermill": {
     "duration": 0.10812,
     "end_time": "2023-06-09T17:09:13.184892",
     "exception": false,
     "start_time": "2023-06-09T17:09:13.076772",
     "status": "completed"
    },
    "tags": []
   },
   "outputs": [
    {
     "name": "stdout",
     "output_type": "stream",
     "text": [
      "Training Data Shape: (42000, 785)\n"
     ]
    },
    {
     "data": {
      "text/html": [
       "<div>\n",
       "<style scoped>\n",
       "    .dataframe tbody tr th:only-of-type {\n",
       "        vertical-align: middle;\n",
       "    }\n",
       "\n",
       "    .dataframe tbody tr th {\n",
       "        vertical-align: top;\n",
       "    }\n",
       "\n",
       "    .dataframe thead th {\n",
       "        text-align: right;\n",
       "    }\n",
       "</style>\n",
       "<table border=\"1\" class=\"dataframe\">\n",
       "  <thead>\n",
       "    <tr style=\"text-align: right;\">\n",
       "      <th></th>\n",
       "      <th>label</th>\n",
       "      <th>pixel0</th>\n",
       "      <th>pixel1</th>\n",
       "      <th>pixel2</th>\n",
       "      <th>pixel3</th>\n",
       "      <th>pixel4</th>\n",
       "      <th>pixel5</th>\n",
       "      <th>pixel6</th>\n",
       "      <th>pixel7</th>\n",
       "      <th>pixel8</th>\n",
       "      <th>pixel9</th>\n",
       "      <th>pixel10</th>\n",
       "      <th>pixel11</th>\n",
       "      <th>pixel12</th>\n",
       "      <th>pixel13</th>\n",
       "      <th>pixel14</th>\n",
       "      <th>pixel15</th>\n",
       "      <th>pixel16</th>\n",
       "      <th>pixel17</th>\n",
       "      <th>pixel18</th>\n",
       "      <th>pixel19</th>\n",
       "      <th>pixel20</th>\n",
       "      <th>pixel21</th>\n",
       "      <th>pixel22</th>\n",
       "      <th>pixel23</th>\n",
       "      <th>...</th>\n",
       "      <th>pixel759</th>\n",
       "      <th>pixel760</th>\n",
       "      <th>pixel761</th>\n",
       "      <th>pixel762</th>\n",
       "      <th>pixel763</th>\n",
       "      <th>pixel764</th>\n",
       "      <th>pixel765</th>\n",
       "      <th>pixel766</th>\n",
       "      <th>pixel767</th>\n",
       "      <th>pixel768</th>\n",
       "      <th>pixel769</th>\n",
       "      <th>pixel770</th>\n",
       "      <th>pixel771</th>\n",
       "      <th>pixel772</th>\n",
       "      <th>pixel773</th>\n",
       "      <th>pixel774</th>\n",
       "      <th>pixel775</th>\n",
       "      <th>pixel776</th>\n",
       "      <th>pixel777</th>\n",
       "      <th>pixel778</th>\n",
       "      <th>pixel779</th>\n",
       "      <th>pixel780</th>\n",
       "      <th>pixel781</th>\n",
       "      <th>pixel782</th>\n",
       "      <th>pixel783</th>\n",
       "    </tr>\n",
       "  </thead>\n",
       "  <tbody>\n",
       "    <tr>\n",
       "      <th>0</th>\n",
       "      <td>1</td>\n",
       "      <td>0</td>\n",
       "      <td>0</td>\n",
       "      <td>0</td>\n",
       "      <td>0</td>\n",
       "      <td>0</td>\n",
       "      <td>0</td>\n",
       "      <td>0</td>\n",
       "      <td>0</td>\n",
       "      <td>0</td>\n",
       "      <td>0</td>\n",
       "      <td>0</td>\n",
       "      <td>0</td>\n",
       "      <td>0</td>\n",
       "      <td>0</td>\n",
       "      <td>0</td>\n",
       "      <td>0</td>\n",
       "      <td>0</td>\n",
       "      <td>0</td>\n",
       "      <td>0</td>\n",
       "      <td>0</td>\n",
       "      <td>0</td>\n",
       "      <td>0</td>\n",
       "      <td>0</td>\n",
       "      <td>0</td>\n",
       "      <td>...</td>\n",
       "      <td>0</td>\n",
       "      <td>0</td>\n",
       "      <td>0</td>\n",
       "      <td>0</td>\n",
       "      <td>0</td>\n",
       "      <td>0</td>\n",
       "      <td>0</td>\n",
       "      <td>0</td>\n",
       "      <td>0</td>\n",
       "      <td>0</td>\n",
       "      <td>0</td>\n",
       "      <td>0</td>\n",
       "      <td>0</td>\n",
       "      <td>0</td>\n",
       "      <td>0</td>\n",
       "      <td>0</td>\n",
       "      <td>0</td>\n",
       "      <td>0</td>\n",
       "      <td>0</td>\n",
       "      <td>0</td>\n",
       "      <td>0</td>\n",
       "      <td>0</td>\n",
       "      <td>0</td>\n",
       "      <td>0</td>\n",
       "      <td>0</td>\n",
       "    </tr>\n",
       "    <tr>\n",
       "      <th>1</th>\n",
       "      <td>0</td>\n",
       "      <td>0</td>\n",
       "      <td>0</td>\n",
       "      <td>0</td>\n",
       "      <td>0</td>\n",
       "      <td>0</td>\n",
       "      <td>0</td>\n",
       "      <td>0</td>\n",
       "      <td>0</td>\n",
       "      <td>0</td>\n",
       "      <td>0</td>\n",
       "      <td>0</td>\n",
       "      <td>0</td>\n",
       "      <td>0</td>\n",
       "      <td>0</td>\n",
       "      <td>0</td>\n",
       "      <td>0</td>\n",
       "      <td>0</td>\n",
       "      <td>0</td>\n",
       "      <td>0</td>\n",
       "      <td>0</td>\n",
       "      <td>0</td>\n",
       "      <td>0</td>\n",
       "      <td>0</td>\n",
       "      <td>0</td>\n",
       "      <td>...</td>\n",
       "      <td>0</td>\n",
       "      <td>0</td>\n",
       "      <td>0</td>\n",
       "      <td>0</td>\n",
       "      <td>0</td>\n",
       "      <td>0</td>\n",
       "      <td>0</td>\n",
       "      <td>0</td>\n",
       "      <td>0</td>\n",
       "      <td>0</td>\n",
       "      <td>0</td>\n",
       "      <td>0</td>\n",
       "      <td>0</td>\n",
       "      <td>0</td>\n",
       "      <td>0</td>\n",
       "      <td>0</td>\n",
       "      <td>0</td>\n",
       "      <td>0</td>\n",
       "      <td>0</td>\n",
       "      <td>0</td>\n",
       "      <td>0</td>\n",
       "      <td>0</td>\n",
       "      <td>0</td>\n",
       "      <td>0</td>\n",
       "      <td>0</td>\n",
       "    </tr>\n",
       "    <tr>\n",
       "      <th>2</th>\n",
       "      <td>1</td>\n",
       "      <td>0</td>\n",
       "      <td>0</td>\n",
       "      <td>0</td>\n",
       "      <td>0</td>\n",
       "      <td>0</td>\n",
       "      <td>0</td>\n",
       "      <td>0</td>\n",
       "      <td>0</td>\n",
       "      <td>0</td>\n",
       "      <td>0</td>\n",
       "      <td>0</td>\n",
       "      <td>0</td>\n",
       "      <td>0</td>\n",
       "      <td>0</td>\n",
       "      <td>0</td>\n",
       "      <td>0</td>\n",
       "      <td>0</td>\n",
       "      <td>0</td>\n",
       "      <td>0</td>\n",
       "      <td>0</td>\n",
       "      <td>0</td>\n",
       "      <td>0</td>\n",
       "      <td>0</td>\n",
       "      <td>0</td>\n",
       "      <td>...</td>\n",
       "      <td>0</td>\n",
       "      <td>0</td>\n",
       "      <td>0</td>\n",
       "      <td>0</td>\n",
       "      <td>0</td>\n",
       "      <td>0</td>\n",
       "      <td>0</td>\n",
       "      <td>0</td>\n",
       "      <td>0</td>\n",
       "      <td>0</td>\n",
       "      <td>0</td>\n",
       "      <td>0</td>\n",
       "      <td>0</td>\n",
       "      <td>0</td>\n",
       "      <td>0</td>\n",
       "      <td>0</td>\n",
       "      <td>0</td>\n",
       "      <td>0</td>\n",
       "      <td>0</td>\n",
       "      <td>0</td>\n",
       "      <td>0</td>\n",
       "      <td>0</td>\n",
       "      <td>0</td>\n",
       "      <td>0</td>\n",
       "      <td>0</td>\n",
       "    </tr>\n",
       "    <tr>\n",
       "      <th>3</th>\n",
       "      <td>4</td>\n",
       "      <td>0</td>\n",
       "      <td>0</td>\n",
       "      <td>0</td>\n",
       "      <td>0</td>\n",
       "      <td>0</td>\n",
       "      <td>0</td>\n",
       "      <td>0</td>\n",
       "      <td>0</td>\n",
       "      <td>0</td>\n",
       "      <td>0</td>\n",
       "      <td>0</td>\n",
       "      <td>0</td>\n",
       "      <td>0</td>\n",
       "      <td>0</td>\n",
       "      <td>0</td>\n",
       "      <td>0</td>\n",
       "      <td>0</td>\n",
       "      <td>0</td>\n",
       "      <td>0</td>\n",
       "      <td>0</td>\n",
       "      <td>0</td>\n",
       "      <td>0</td>\n",
       "      <td>0</td>\n",
       "      <td>0</td>\n",
       "      <td>...</td>\n",
       "      <td>0</td>\n",
       "      <td>0</td>\n",
       "      <td>0</td>\n",
       "      <td>0</td>\n",
       "      <td>0</td>\n",
       "      <td>0</td>\n",
       "      <td>0</td>\n",
       "      <td>0</td>\n",
       "      <td>0</td>\n",
       "      <td>0</td>\n",
       "      <td>0</td>\n",
       "      <td>0</td>\n",
       "      <td>0</td>\n",
       "      <td>0</td>\n",
       "      <td>0</td>\n",
       "      <td>0</td>\n",
       "      <td>0</td>\n",
       "      <td>0</td>\n",
       "      <td>0</td>\n",
       "      <td>0</td>\n",
       "      <td>0</td>\n",
       "      <td>0</td>\n",
       "      <td>0</td>\n",
       "      <td>0</td>\n",
       "      <td>0</td>\n",
       "    </tr>\n",
       "    <tr>\n",
       "      <th>4</th>\n",
       "      <td>0</td>\n",
       "      <td>0</td>\n",
       "      <td>0</td>\n",
       "      <td>0</td>\n",
       "      <td>0</td>\n",
       "      <td>0</td>\n",
       "      <td>0</td>\n",
       "      <td>0</td>\n",
       "      <td>0</td>\n",
       "      <td>0</td>\n",
       "      <td>0</td>\n",
       "      <td>0</td>\n",
       "      <td>0</td>\n",
       "      <td>0</td>\n",
       "      <td>0</td>\n",
       "      <td>0</td>\n",
       "      <td>0</td>\n",
       "      <td>0</td>\n",
       "      <td>0</td>\n",
       "      <td>0</td>\n",
       "      <td>0</td>\n",
       "      <td>0</td>\n",
       "      <td>0</td>\n",
       "      <td>0</td>\n",
       "      <td>0</td>\n",
       "      <td>...</td>\n",
       "      <td>0</td>\n",
       "      <td>0</td>\n",
       "      <td>0</td>\n",
       "      <td>0</td>\n",
       "      <td>0</td>\n",
       "      <td>0</td>\n",
       "      <td>0</td>\n",
       "      <td>0</td>\n",
       "      <td>0</td>\n",
       "      <td>0</td>\n",
       "      <td>0</td>\n",
       "      <td>0</td>\n",
       "      <td>0</td>\n",
       "      <td>0</td>\n",
       "      <td>0</td>\n",
       "      <td>0</td>\n",
       "      <td>0</td>\n",
       "      <td>0</td>\n",
       "      <td>0</td>\n",
       "      <td>0</td>\n",
       "      <td>0</td>\n",
       "      <td>0</td>\n",
       "      <td>0</td>\n",
       "      <td>0</td>\n",
       "      <td>0</td>\n",
       "    </tr>\n",
       "  </tbody>\n",
       "</table>\n",
       "<p>5 rows × 785 columns</p>\n",
       "</div>"
      ],
      "text/plain": [
       "   label  pixel0  pixel1  pixel2  pixel3  pixel4  pixel5  pixel6  pixel7  \\\n",
       "0      1       0       0       0       0       0       0       0       0   \n",
       "1      0       0       0       0       0       0       0       0       0   \n",
       "2      1       0       0       0       0       0       0       0       0   \n",
       "3      4       0       0       0       0       0       0       0       0   \n",
       "4      0       0       0       0       0       0       0       0       0   \n",
       "\n",
       "   pixel8  pixel9  pixel10  pixel11  pixel12  pixel13  pixel14  pixel15  \\\n",
       "0       0       0        0        0        0        0        0        0   \n",
       "1       0       0        0        0        0        0        0        0   \n",
       "2       0       0        0        0        0        0        0        0   \n",
       "3       0       0        0        0        0        0        0        0   \n",
       "4       0       0        0        0        0        0        0        0   \n",
       "\n",
       "   pixel16  pixel17  pixel18  pixel19  pixel20  pixel21  pixel22  pixel23  \\\n",
       "0        0        0        0        0        0        0        0        0   \n",
       "1        0        0        0        0        0        0        0        0   \n",
       "2        0        0        0        0        0        0        0        0   \n",
       "3        0        0        0        0        0        0        0        0   \n",
       "4        0        0        0        0        0        0        0        0   \n",
       "\n",
       "   ...  pixel759  pixel760  pixel761  pixel762  pixel763  pixel764  pixel765  \\\n",
       "0  ...         0         0         0         0         0         0         0   \n",
       "1  ...         0         0         0         0         0         0         0   \n",
       "2  ...         0         0         0         0         0         0         0   \n",
       "3  ...         0         0         0         0         0         0         0   \n",
       "4  ...         0         0         0         0         0         0         0   \n",
       "\n",
       "   pixel766  pixel767  pixel768  pixel769  pixel770  pixel771  pixel772  \\\n",
       "0         0         0         0         0         0         0         0   \n",
       "1         0         0         0         0         0         0         0   \n",
       "2         0         0         0         0         0         0         0   \n",
       "3         0         0         0         0         0         0         0   \n",
       "4         0         0         0         0         0         0         0   \n",
       "\n",
       "   pixel773  pixel774  pixel775  pixel776  pixel777  pixel778  pixel779  \\\n",
       "0         0         0         0         0         0         0         0   \n",
       "1         0         0         0         0         0         0         0   \n",
       "2         0         0         0         0         0         0         0   \n",
       "3         0         0         0         0         0         0         0   \n",
       "4         0         0         0         0         0         0         0   \n",
       "\n",
       "   pixel780  pixel781  pixel782  pixel783  \n",
       "0         0         0         0         0  \n",
       "1         0         0         0         0  \n",
       "2         0         0         0         0  \n",
       "3         0         0         0         0  \n",
       "4         0         0         0         0  \n",
       "\n",
       "[5 rows x 785 columns]"
      ]
     },
     "metadata": {},
     "output_type": "display_data"
    },
    {
     "name": "stdout",
     "output_type": "stream",
     "text": [
      "Test Data Shape: (28000, 784)\n"
     ]
    },
    {
     "data": {
      "text/html": [
       "<div>\n",
       "<style scoped>\n",
       "    .dataframe tbody tr th:only-of-type {\n",
       "        vertical-align: middle;\n",
       "    }\n",
       "\n",
       "    .dataframe tbody tr th {\n",
       "        vertical-align: top;\n",
       "    }\n",
       "\n",
       "    .dataframe thead th {\n",
       "        text-align: right;\n",
       "    }\n",
       "</style>\n",
       "<table border=\"1\" class=\"dataframe\">\n",
       "  <thead>\n",
       "    <tr style=\"text-align: right;\">\n",
       "      <th></th>\n",
       "      <th>pixel0</th>\n",
       "      <th>pixel1</th>\n",
       "      <th>pixel2</th>\n",
       "      <th>pixel3</th>\n",
       "      <th>pixel4</th>\n",
       "      <th>pixel5</th>\n",
       "      <th>pixel6</th>\n",
       "      <th>pixel7</th>\n",
       "      <th>pixel8</th>\n",
       "      <th>pixel9</th>\n",
       "      <th>pixel10</th>\n",
       "      <th>pixel11</th>\n",
       "      <th>pixel12</th>\n",
       "      <th>pixel13</th>\n",
       "      <th>pixel14</th>\n",
       "      <th>pixel15</th>\n",
       "      <th>pixel16</th>\n",
       "      <th>pixel17</th>\n",
       "      <th>pixel18</th>\n",
       "      <th>pixel19</th>\n",
       "      <th>pixel20</th>\n",
       "      <th>pixel21</th>\n",
       "      <th>pixel22</th>\n",
       "      <th>pixel23</th>\n",
       "      <th>pixel24</th>\n",
       "      <th>...</th>\n",
       "      <th>pixel759</th>\n",
       "      <th>pixel760</th>\n",
       "      <th>pixel761</th>\n",
       "      <th>pixel762</th>\n",
       "      <th>pixel763</th>\n",
       "      <th>pixel764</th>\n",
       "      <th>pixel765</th>\n",
       "      <th>pixel766</th>\n",
       "      <th>pixel767</th>\n",
       "      <th>pixel768</th>\n",
       "      <th>pixel769</th>\n",
       "      <th>pixel770</th>\n",
       "      <th>pixel771</th>\n",
       "      <th>pixel772</th>\n",
       "      <th>pixel773</th>\n",
       "      <th>pixel774</th>\n",
       "      <th>pixel775</th>\n",
       "      <th>pixel776</th>\n",
       "      <th>pixel777</th>\n",
       "      <th>pixel778</th>\n",
       "      <th>pixel779</th>\n",
       "      <th>pixel780</th>\n",
       "      <th>pixel781</th>\n",
       "      <th>pixel782</th>\n",
       "      <th>pixel783</th>\n",
       "    </tr>\n",
       "  </thead>\n",
       "  <tbody>\n",
       "    <tr>\n",
       "      <th>0</th>\n",
       "      <td>0</td>\n",
       "      <td>0</td>\n",
       "      <td>0</td>\n",
       "      <td>0</td>\n",
       "      <td>0</td>\n",
       "      <td>0</td>\n",
       "      <td>0</td>\n",
       "      <td>0</td>\n",
       "      <td>0</td>\n",
       "      <td>0</td>\n",
       "      <td>0</td>\n",
       "      <td>0</td>\n",
       "      <td>0</td>\n",
       "      <td>0</td>\n",
       "      <td>0</td>\n",
       "      <td>0</td>\n",
       "      <td>0</td>\n",
       "      <td>0</td>\n",
       "      <td>0</td>\n",
       "      <td>0</td>\n",
       "      <td>0</td>\n",
       "      <td>0</td>\n",
       "      <td>0</td>\n",
       "      <td>0</td>\n",
       "      <td>0</td>\n",
       "      <td>...</td>\n",
       "      <td>0</td>\n",
       "      <td>0</td>\n",
       "      <td>0</td>\n",
       "      <td>0</td>\n",
       "      <td>0</td>\n",
       "      <td>0</td>\n",
       "      <td>0</td>\n",
       "      <td>0</td>\n",
       "      <td>0</td>\n",
       "      <td>0</td>\n",
       "      <td>0</td>\n",
       "      <td>0</td>\n",
       "      <td>0</td>\n",
       "      <td>0</td>\n",
       "      <td>0</td>\n",
       "      <td>0</td>\n",
       "      <td>0</td>\n",
       "      <td>0</td>\n",
       "      <td>0</td>\n",
       "      <td>0</td>\n",
       "      <td>0</td>\n",
       "      <td>0</td>\n",
       "      <td>0</td>\n",
       "      <td>0</td>\n",
       "      <td>0</td>\n",
       "    </tr>\n",
       "    <tr>\n",
       "      <th>1</th>\n",
       "      <td>0</td>\n",
       "      <td>0</td>\n",
       "      <td>0</td>\n",
       "      <td>0</td>\n",
       "      <td>0</td>\n",
       "      <td>0</td>\n",
       "      <td>0</td>\n",
       "      <td>0</td>\n",
       "      <td>0</td>\n",
       "      <td>0</td>\n",
       "      <td>0</td>\n",
       "      <td>0</td>\n",
       "      <td>0</td>\n",
       "      <td>0</td>\n",
       "      <td>0</td>\n",
       "      <td>0</td>\n",
       "      <td>0</td>\n",
       "      <td>0</td>\n",
       "      <td>0</td>\n",
       "      <td>0</td>\n",
       "      <td>0</td>\n",
       "      <td>0</td>\n",
       "      <td>0</td>\n",
       "      <td>0</td>\n",
       "      <td>0</td>\n",
       "      <td>...</td>\n",
       "      <td>0</td>\n",
       "      <td>0</td>\n",
       "      <td>0</td>\n",
       "      <td>0</td>\n",
       "      <td>0</td>\n",
       "      <td>0</td>\n",
       "      <td>0</td>\n",
       "      <td>0</td>\n",
       "      <td>0</td>\n",
       "      <td>0</td>\n",
       "      <td>0</td>\n",
       "      <td>0</td>\n",
       "      <td>0</td>\n",
       "      <td>0</td>\n",
       "      <td>0</td>\n",
       "      <td>0</td>\n",
       "      <td>0</td>\n",
       "      <td>0</td>\n",
       "      <td>0</td>\n",
       "      <td>0</td>\n",
       "      <td>0</td>\n",
       "      <td>0</td>\n",
       "      <td>0</td>\n",
       "      <td>0</td>\n",
       "      <td>0</td>\n",
       "    </tr>\n",
       "    <tr>\n",
       "      <th>2</th>\n",
       "      <td>0</td>\n",
       "      <td>0</td>\n",
       "      <td>0</td>\n",
       "      <td>0</td>\n",
       "      <td>0</td>\n",
       "      <td>0</td>\n",
       "      <td>0</td>\n",
       "      <td>0</td>\n",
       "      <td>0</td>\n",
       "      <td>0</td>\n",
       "      <td>0</td>\n",
       "      <td>0</td>\n",
       "      <td>0</td>\n",
       "      <td>0</td>\n",
       "      <td>0</td>\n",
       "      <td>0</td>\n",
       "      <td>0</td>\n",
       "      <td>0</td>\n",
       "      <td>0</td>\n",
       "      <td>0</td>\n",
       "      <td>0</td>\n",
       "      <td>0</td>\n",
       "      <td>0</td>\n",
       "      <td>0</td>\n",
       "      <td>0</td>\n",
       "      <td>...</td>\n",
       "      <td>0</td>\n",
       "      <td>0</td>\n",
       "      <td>0</td>\n",
       "      <td>0</td>\n",
       "      <td>0</td>\n",
       "      <td>0</td>\n",
       "      <td>0</td>\n",
       "      <td>0</td>\n",
       "      <td>0</td>\n",
       "      <td>0</td>\n",
       "      <td>0</td>\n",
       "      <td>0</td>\n",
       "      <td>0</td>\n",
       "      <td>0</td>\n",
       "      <td>0</td>\n",
       "      <td>0</td>\n",
       "      <td>0</td>\n",
       "      <td>0</td>\n",
       "      <td>0</td>\n",
       "      <td>0</td>\n",
       "      <td>0</td>\n",
       "      <td>0</td>\n",
       "      <td>0</td>\n",
       "      <td>0</td>\n",
       "      <td>0</td>\n",
       "    </tr>\n",
       "    <tr>\n",
       "      <th>3</th>\n",
       "      <td>0</td>\n",
       "      <td>0</td>\n",
       "      <td>0</td>\n",
       "      <td>0</td>\n",
       "      <td>0</td>\n",
       "      <td>0</td>\n",
       "      <td>0</td>\n",
       "      <td>0</td>\n",
       "      <td>0</td>\n",
       "      <td>0</td>\n",
       "      <td>0</td>\n",
       "      <td>0</td>\n",
       "      <td>0</td>\n",
       "      <td>0</td>\n",
       "      <td>0</td>\n",
       "      <td>0</td>\n",
       "      <td>0</td>\n",
       "      <td>0</td>\n",
       "      <td>0</td>\n",
       "      <td>0</td>\n",
       "      <td>0</td>\n",
       "      <td>0</td>\n",
       "      <td>0</td>\n",
       "      <td>0</td>\n",
       "      <td>0</td>\n",
       "      <td>...</td>\n",
       "      <td>0</td>\n",
       "      <td>0</td>\n",
       "      <td>0</td>\n",
       "      <td>0</td>\n",
       "      <td>0</td>\n",
       "      <td>0</td>\n",
       "      <td>0</td>\n",
       "      <td>0</td>\n",
       "      <td>0</td>\n",
       "      <td>0</td>\n",
       "      <td>0</td>\n",
       "      <td>0</td>\n",
       "      <td>0</td>\n",
       "      <td>0</td>\n",
       "      <td>0</td>\n",
       "      <td>0</td>\n",
       "      <td>0</td>\n",
       "      <td>0</td>\n",
       "      <td>0</td>\n",
       "      <td>0</td>\n",
       "      <td>0</td>\n",
       "      <td>0</td>\n",
       "      <td>0</td>\n",
       "      <td>0</td>\n",
       "      <td>0</td>\n",
       "    </tr>\n",
       "    <tr>\n",
       "      <th>4</th>\n",
       "      <td>0</td>\n",
       "      <td>0</td>\n",
       "      <td>0</td>\n",
       "      <td>0</td>\n",
       "      <td>0</td>\n",
       "      <td>0</td>\n",
       "      <td>0</td>\n",
       "      <td>0</td>\n",
       "      <td>0</td>\n",
       "      <td>0</td>\n",
       "      <td>0</td>\n",
       "      <td>0</td>\n",
       "      <td>0</td>\n",
       "      <td>0</td>\n",
       "      <td>0</td>\n",
       "      <td>0</td>\n",
       "      <td>0</td>\n",
       "      <td>0</td>\n",
       "      <td>0</td>\n",
       "      <td>0</td>\n",
       "      <td>0</td>\n",
       "      <td>0</td>\n",
       "      <td>0</td>\n",
       "      <td>0</td>\n",
       "      <td>0</td>\n",
       "      <td>...</td>\n",
       "      <td>0</td>\n",
       "      <td>0</td>\n",
       "      <td>0</td>\n",
       "      <td>0</td>\n",
       "      <td>0</td>\n",
       "      <td>0</td>\n",
       "      <td>0</td>\n",
       "      <td>0</td>\n",
       "      <td>0</td>\n",
       "      <td>0</td>\n",
       "      <td>0</td>\n",
       "      <td>0</td>\n",
       "      <td>0</td>\n",
       "      <td>0</td>\n",
       "      <td>0</td>\n",
       "      <td>0</td>\n",
       "      <td>0</td>\n",
       "      <td>0</td>\n",
       "      <td>0</td>\n",
       "      <td>0</td>\n",
       "      <td>0</td>\n",
       "      <td>0</td>\n",
       "      <td>0</td>\n",
       "      <td>0</td>\n",
       "      <td>0</td>\n",
       "    </tr>\n",
       "  </tbody>\n",
       "</table>\n",
       "<p>5 rows × 784 columns</p>\n",
       "</div>"
      ],
      "text/plain": [
       "   pixel0  pixel1  pixel2  pixel3  pixel4  pixel5  pixel6  pixel7  pixel8  \\\n",
       "0       0       0       0       0       0       0       0       0       0   \n",
       "1       0       0       0       0       0       0       0       0       0   \n",
       "2       0       0       0       0       0       0       0       0       0   \n",
       "3       0       0       0       0       0       0       0       0       0   \n",
       "4       0       0       0       0       0       0       0       0       0   \n",
       "\n",
       "   pixel9  pixel10  pixel11  pixel12  pixel13  pixel14  pixel15  pixel16  \\\n",
       "0       0        0        0        0        0        0        0        0   \n",
       "1       0        0        0        0        0        0        0        0   \n",
       "2       0        0        0        0        0        0        0        0   \n",
       "3       0        0        0        0        0        0        0        0   \n",
       "4       0        0        0        0        0        0        0        0   \n",
       "\n",
       "   pixel17  pixel18  pixel19  pixel20  pixel21  pixel22  pixel23  pixel24  \\\n",
       "0        0        0        0        0        0        0        0        0   \n",
       "1        0        0        0        0        0        0        0        0   \n",
       "2        0        0        0        0        0        0        0        0   \n",
       "3        0        0        0        0        0        0        0        0   \n",
       "4        0        0        0        0        0        0        0        0   \n",
       "\n",
       "   ...  pixel759  pixel760  pixel761  pixel762  pixel763  pixel764  pixel765  \\\n",
       "0  ...         0         0         0         0         0         0         0   \n",
       "1  ...         0         0         0         0         0         0         0   \n",
       "2  ...         0         0         0         0         0         0         0   \n",
       "3  ...         0         0         0         0         0         0         0   \n",
       "4  ...         0         0         0         0         0         0         0   \n",
       "\n",
       "   pixel766  pixel767  pixel768  pixel769  pixel770  pixel771  pixel772  \\\n",
       "0         0         0         0         0         0         0         0   \n",
       "1         0         0         0         0         0         0         0   \n",
       "2         0         0         0         0         0         0         0   \n",
       "3         0         0         0         0         0         0         0   \n",
       "4         0         0         0         0         0         0         0   \n",
       "\n",
       "   pixel773  pixel774  pixel775  pixel776  pixel777  pixel778  pixel779  \\\n",
       "0         0         0         0         0         0         0         0   \n",
       "1         0         0         0         0         0         0         0   \n",
       "2         0         0         0         0         0         0         0   \n",
       "3         0         0         0         0         0         0         0   \n",
       "4         0         0         0         0         0         0         0   \n",
       "\n",
       "   pixel780  pixel781  pixel782  pixel783  \n",
       "0         0         0         0         0  \n",
       "1         0         0         0         0  \n",
       "2         0         0         0         0  \n",
       "3         0         0         0         0  \n",
       "4         0         0         0         0  \n",
       "\n",
       "[5 rows x 784 columns]"
      ]
     },
     "metadata": {},
     "output_type": "display_data"
    },
    {
     "name": "stdout",
     "output_type": "stream",
     "text": [
      "Sample Submission Shape: (28000, 2)\n"
     ]
    },
    {
     "data": {
      "text/html": [
       "<div>\n",
       "<style scoped>\n",
       "    .dataframe tbody tr th:only-of-type {\n",
       "        vertical-align: middle;\n",
       "    }\n",
       "\n",
       "    .dataframe tbody tr th {\n",
       "        vertical-align: top;\n",
       "    }\n",
       "\n",
       "    .dataframe thead th {\n",
       "        text-align: right;\n",
       "    }\n",
       "</style>\n",
       "<table border=\"1\" class=\"dataframe\">\n",
       "  <thead>\n",
       "    <tr style=\"text-align: right;\">\n",
       "      <th></th>\n",
       "      <th>ImageId</th>\n",
       "      <th>Label</th>\n",
       "    </tr>\n",
       "  </thead>\n",
       "  <tbody>\n",
       "    <tr>\n",
       "      <th>0</th>\n",
       "      <td>1</td>\n",
       "      <td>0</td>\n",
       "    </tr>\n",
       "    <tr>\n",
       "      <th>1</th>\n",
       "      <td>2</td>\n",
       "      <td>0</td>\n",
       "    </tr>\n",
       "    <tr>\n",
       "      <th>2</th>\n",
       "      <td>3</td>\n",
       "      <td>0</td>\n",
       "    </tr>\n",
       "    <tr>\n",
       "      <th>3</th>\n",
       "      <td>4</td>\n",
       "      <td>0</td>\n",
       "    </tr>\n",
       "    <tr>\n",
       "      <th>4</th>\n",
       "      <td>5</td>\n",
       "      <td>0</td>\n",
       "    </tr>\n",
       "  </tbody>\n",
       "</table>\n",
       "</div>"
      ],
      "text/plain": [
       "   ImageId  Label\n",
       "0        1      0\n",
       "1        2      0\n",
       "2        3      0\n",
       "3        4      0\n",
       "4        5      0"
      ]
     },
     "metadata": {},
     "output_type": "display_data"
    }
   ],
   "source": [
    "print(f'Training Data Shape: {train.shape}') \n",
    "display(train.head()) \n",
    "print(f'Test Data Shape: {test.shape}') \n",
    "display(test.head()) \n",
    "print(f'Sample Submission Shape: {ss.shape}') \n",
    "display(ss.head())"
   ]
  },
  {
   "cell_type": "code",
   "execution_count": 4,
   "id": "f4be6959",
   "metadata": {
    "execution": {
     "iopub.execute_input": "2023-06-09T17:09:13.211153Z",
     "iopub.status.busy": "2023-06-09T17:09:13.210767Z",
     "iopub.status.idle": "2023-06-09T17:09:13.215498Z",
     "shell.execute_reply": "2023-06-09T17:09:13.214786Z"
    },
    "papermill": {
     "duration": 0.020425,
     "end_time": "2023-06-09T17:09:13.217737",
     "exception": false,
     "start_time": "2023-06-09T17:09:13.197312",
     "status": "completed"
    },
    "tags": []
   },
   "outputs": [],
   "source": [
    "y = train['label']\n",
    "train = train.iloc[:, 1:]"
   ]
  },
  {
   "cell_type": "code",
   "execution_count": 5,
   "id": "47eb26ed",
   "metadata": {
    "execution": {
     "iopub.execute_input": "2023-06-09T17:09:13.243288Z",
     "iopub.status.busy": "2023-06-09T17:09:13.242895Z",
     "iopub.status.idle": "2023-06-09T17:09:13.257396Z",
     "shell.execute_reply": "2023-06-09T17:09:13.256159Z"
    },
    "papermill": {
     "duration": 0.030589,
     "end_time": "2023-06-09T17:09:13.260110",
     "exception": false,
     "start_time": "2023-06-09T17:09:13.229521",
     "status": "completed"
    },
    "tags": []
   },
   "outputs": [
    {
     "data": {
      "text/plain": [
       "1    4684\n",
       "7    4401\n",
       "3    4351\n",
       "9    4188\n",
       "2    4177\n",
       "6    4137\n",
       "0    4132\n",
       "4    4072\n",
       "8    4063\n",
       "5    3795\n",
       "Name: label, dtype: int64"
      ]
     },
     "execution_count": 5,
     "metadata": {},
     "output_type": "execute_result"
    }
   ],
   "source": [
    "y.value_counts()"
   ]
  },
  {
   "cell_type": "markdown",
   "id": "6e9a0238",
   "metadata": {
    "papermill": {
     "duration": 0.011374,
     "end_time": "2023-06-09T17:09:13.283224",
     "exception": false,
     "start_time": "2023-06-09T17:09:13.271850",
     "status": "completed"
    },
    "tags": []
   },
   "source": [
    "## Reshape array for CNN"
   ]
  },
  {
   "cell_type": "code",
   "execution_count": 6,
   "id": "0b8e7313",
   "metadata": {
    "execution": {
     "iopub.execute_input": "2023-06-09T17:09:13.308124Z",
     "iopub.status.busy": "2023-06-09T17:09:13.307659Z",
     "iopub.status.idle": "2023-06-09T17:09:13.317637Z",
     "shell.execute_reply": "2023-06-09T17:09:13.316427Z"
    },
    "papermill": {
     "duration": 0.02578,
     "end_time": "2023-06-09T17:09:13.320637",
     "exception": false,
     "start_time": "2023-06-09T17:09:13.294857",
     "status": "completed"
    },
    "tags": []
   },
   "outputs": [
    {
     "data": {
      "text/plain": [
       "(28000, 28, 28, 1)"
      ]
     },
     "execution_count": 6,
     "metadata": {},
     "output_type": "execute_result"
    }
   ],
   "source": [
    "# -1 means that it is an unknown dimension and numpy should figure it out from other dimensions.\n",
    "train = train.values.reshape(-1,28,28,1)\n",
    "test = test.values.reshape(-1,28,28,1)\n",
    "test.shape"
   ]
  },
  {
   "cell_type": "markdown",
   "id": "444f7be4",
   "metadata": {
    "papermill": {
     "duration": 0.011435,
     "end_time": "2023-06-09T17:09:13.344083",
     "exception": false,
     "start_time": "2023-06-09T17:09:13.332648",
     "status": "completed"
    },
    "tags": []
   },
   "source": [
    "## One hot encode y variable"
   ]
  },
  {
   "cell_type": "code",
   "execution_count": 7,
   "id": "c820cffd",
   "metadata": {
    "execution": {
     "iopub.execute_input": "2023-06-09T17:09:13.369491Z",
     "iopub.status.busy": "2023-06-09T17:09:13.369076Z",
     "iopub.status.idle": "2023-06-09T17:09:13.840604Z",
     "shell.execute_reply": "2023-06-09T17:09:13.839469Z"
    },
    "papermill": {
     "duration": 0.487573,
     "end_time": "2023-06-09T17:09:13.843422",
     "exception": false,
     "start_time": "2023-06-09T17:09:13.355849",
     "status": "completed"
    },
    "tags": []
   },
   "outputs": [
    {
     "data": {
      "text/plain": [
       "(42000, 10)"
      ]
     },
     "execution_count": 7,
     "metadata": {},
     "output_type": "execute_result"
    }
   ],
   "source": [
    "# one hot encode y variable.\n",
    "y_ohe = tf.keras.utils.to_categorical(y, num_classes=10)\n",
    "y_ohe.shape"
   ]
  },
  {
   "cell_type": "markdown",
   "id": "b27aa81e",
   "metadata": {
    "papermill": {
     "duration": 0.012702,
     "end_time": "2023-06-09T17:09:13.868606",
     "exception": false,
     "start_time": "2023-06-09T17:09:13.855904",
     "status": "completed"
    },
    "tags": []
   },
   "source": [
    "## Look at a few samples"
   ]
  },
  {
   "cell_type": "code",
   "execution_count": 8,
   "id": "b693a54c",
   "metadata": {
    "execution": {
     "iopub.execute_input": "2023-06-09T17:09:13.896003Z",
     "iopub.status.busy": "2023-06-09T17:09:13.895538Z",
     "iopub.status.idle": "2023-06-09T17:09:14.529476Z",
     "shell.execute_reply": "2023-06-09T17:09:14.527902Z"
    },
    "papermill": {
     "duration": 0.651094,
     "end_time": "2023-06-09T17:09:14.532481",
     "exception": false,
     "start_time": "2023-06-09T17:09:13.881387",
     "status": "completed"
    },
    "tags": []
   },
   "outputs": [
    {
     "data": {
      "image/png": "[encoded data removed]",
      "text/plain": [
       "<Figure size 2000x2000 with 6 Axes>"
      ]
     },
     "metadata": {},
     "output_type": "display_data"
    }
   ],
   "source": [
    "# plot first six training images\n",
    "fig = plt.figure(figsize=(20,20))\n",
    "for i in range(6):\n",
    "    ax = fig.add_subplot(1, 6, i+1, xticks=[], yticks=[])\n",
    "    ax.imshow(train[i], cmap='gray')\n",
    "    ax.set_title(str(y[i]))"
   ]
  },
  {
   "cell_type": "markdown",
   "id": "b497893c",
   "metadata": {
    "papermill": {
     "duration": 0.011741,
     "end_time": "2023-06-09T17:09:14.556591",
     "exception": false,
     "start_time": "2023-06-09T17:09:14.544850",
     "status": "completed"
    },
    "tags": []
   },
   "source": [
    "## Train Test Split"
   ]
  },
  {
   "cell_type": "code",
   "execution_count": 9,
   "id": "bf5ecef4",
   "metadata": {
    "execution": {
     "iopub.execute_input": "2023-06-09T17:09:14.582700Z",
     "iopub.status.busy": "2023-06-09T17:09:14.582289Z",
     "iopub.status.idle": "2023-06-09T17:09:15.314604Z",
     "shell.execute_reply": "2023-06-09T17:09:15.313042Z"
    },
    "papermill": {
     "duration": 0.74894,
     "end_time": "2023-06-09T17:09:15.317614",
     "exception": false,
     "start_time": "2023-06-09T17:09:14.568674",
     "status": "completed"
    },
    "tags": []
   },
   "outputs": [],
   "source": [
    "from sklearn.model_selection import train_test_split\n",
    "x_train, x_valid, y_train, y_valid = train_test_split(train, y_ohe, train_size=0.8, test_size=0.2,\n",
    "                                                      random_state=12)\n",
    "x_test = test"
   ]
  },
  {
   "cell_type": "markdown",
   "id": "2db4227c",
   "metadata": {
    "papermill": {
     "duration": 0.012104,
     "end_time": "2023-06-09T17:09:15.342438",
     "exception": false,
     "start_time": "2023-06-09T17:09:15.330334",
     "status": "completed"
    },
    "tags": []
   },
   "source": [
    "## LeNet-5 Model"
   ]
  },
  {
   "cell_type": "code",
   "execution_count": 10,
   "id": "3ab94a50",
   "metadata": {
    "execution": {
     "iopub.execute_input": "2023-06-09T17:09:15.368733Z",
     "iopub.status.busy": "2023-06-09T17:09:15.368299Z",
     "iopub.status.idle": "2023-06-09T17:09:15.661105Z",
     "shell.execute_reply": "2023-06-09T17:09:15.659807Z"
    },
    "papermill": {
     "duration": 0.317978,
     "end_time": "2023-06-09T17:09:15.672560",
     "exception": false,
     "start_time": "2023-06-09T17:09:15.354582",
     "status": "completed"
    },
    "tags": []
   },
   "outputs": [
    {
     "name": "stdout",
     "output_type": "stream",
     "text": [
      "Model: \"sequential\"\n",
      "_________________________________________________________________\n",
      " Layer (type)                Output Shape              Param #   \n",
      "=================================================================\n",
      " conv2d (Conv2D)             (None, 28, 28, 6)         156       \n",
      "                                                                 \n",
      " average_pooling2d (AverageP  (None, 14, 14, 6)        0         \n",
      " ooling2D)                                                       \n",
      "                                                                 \n",
      " conv2d_1 (Conv2D)           (None, 10, 10, 16)        2416      \n",
      "                                                                 \n",
      " average_pooling2d_1 (Averag  (None, 5, 5, 16)         0         \n",
      " ePooling2D)                                                     \n",
      "                                                                 \n",
      " conv2d_2 (Conv2D)           (None, 1, 1, 120)         48120     \n",
      "                                                                 \n",
      " flatten (Flatten)           (None, 120)               0         \n",
      "                                                                 \n",
      " dense (Dense)               (None, 84)                10164     \n",
      "                                                                 \n",
      " dense_1 (Dense)             (None, 10)                850       \n",
      "                                                                 \n",
      "=================================================================\n",
      "Total params: 61,706\n",
      "Trainable params: 61,706\n",
      "Non-trainable params: 0\n",
      "_________________________________________________________________\n"
     ]
    }
   ],
   "source": [
    "# LeNet-5 Architecture\n",
    "model = Sequential()\n",
    "\n",
    "model.add(Conv2D(filters=6,kernel_size=5, strides=1,activation='tanh',input_shape=(28,28,1),padding='same'))\n",
    "\n",
    "model.add(AveragePooling2D(pool_size=2, strides=2,padding='valid'))\n",
    "\n",
    "model.add(Conv2D(filters=16,kernel_size=5, strides=1,activation='tanh',padding='valid'))\n",
    "\n",
    "model.add(AveragePooling2D(pool_size=2, strides=2,padding='valid'))\n",
    "\n",
    "model.add(Conv2D(filters=120,kernel_size=5, strides=1,activation='tanh',padding='valid'))\n",
    "\n",
    "model.add(Flatten())\n",
    "\n",
    "model.add(Dense(units=84, activation='tanh'))\n",
    "\n",
    "model.add(Dense(units=10,activation='softmax'))\n",
    "\n",
    "model.summary()"
   ]
  },
  {
   "cell_type": "code",
   "execution_count": 11,
   "id": "f58f904c",
   "metadata": {
    "execution": {
     "iopub.execute_input": "2023-06-09T17:09:15.703521Z",
     "iopub.status.busy": "2023-06-09T17:09:15.703113Z",
     "iopub.status.idle": "2023-06-09T17:09:15.724546Z",
     "shell.execute_reply": "2023-06-09T17:09:15.723389Z"
    },
    "papermill": {
     "duration": 0.040306,
     "end_time": "2023-06-09T17:09:15.727266",
     "exception": false,
     "start_time": "2023-06-09T17:09:15.686960",
     "status": "completed"
    },
    "tags": []
   },
   "outputs": [],
   "source": [
    "# use categorical cross entropy loss function when have multiple classes\n",
    "model.compile(loss='categorical_crossentropy', optimizer='adam', metrics=['accuracy'])"
   ]
  },
  {
   "cell_type": "code",
   "execution_count": 12,
   "id": "b6cb0c09",
   "metadata": {
    "execution": {
     "iopub.execute_input": "2023-06-09T17:09:15.758454Z",
     "iopub.status.busy": "2023-06-09T17:09:15.757590Z",
     "iopub.status.idle": "2023-06-09T17:14:34.101192Z",
     "shell.execute_reply": "2023-06-09T17:14:34.099780Z"
    },
    "papermill": {
     "duration": 318.37687,
     "end_time": "2023-06-09T17:14:34.118539",
     "exception": false,
     "start_time": "2023-06-09T17:09:15.741669",
     "status": "completed"
    },
    "tags": []
   },
   "outputs": [
    {
     "name": "stdout",
     "output_type": "stream",
     "text": [
      "Epoch 1/20\n",
      "\n",
      "Epoch 1: val_loss improved from inf to 0.09302, saving model to model.weights.best.hdf5\n",
      "1050/1050 - 17s - loss: 0.2225 - accuracy: 0.9384 - val_loss: 0.0930 - val_accuracy: 0.9733 - lr: 5.0000e-04 - 17s/epoch - 16ms/step\n",
      "Epoch 2/20\n",
      "\n",
      "Epoch 2: val_loss improved from 0.09302 to 0.06906, saving model to model.weights.best.hdf5\n",
      "1050/1050 - 16s - loss: 0.0805 - accuracy: 0.9758 - val_loss: 0.0691 - val_accuracy: 0.9795 - lr: 5.0000e-04 - 16s/epoch - 15ms/step\n",
      "Epoch 3/20\n",
      "\n",
      "Epoch 3: val_loss improved from 0.06906 to 0.06260, saving model to model.weights.best.hdf5\n",
      "1050/1050 - 17s - loss: 0.0605 - accuracy: 0.9814 - val_loss: 0.0626 - val_accuracy: 0.9812 - lr: 5.0000e-04 - 17s/epoch - 16ms/step\n",
      "Epoch 4/20\n",
      "\n",
      "Epoch 4: val_loss improved from 0.06260 to 0.05034, saving model to model.weights.best.hdf5\n",
      "1050/1050 - 16s - loss: 0.0412 - accuracy: 0.9872 - val_loss: 0.0503 - val_accuracy: 0.9839 - lr: 2.0000e-04 - 16s/epoch - 15ms/step\n",
      "Epoch 5/20\n",
      "\n",
      "Epoch 5: val_loss did not improve from 0.05034\n",
      "1050/1050 - 15s - loss: 0.0351 - accuracy: 0.9894 - val_loss: 0.0511 - val_accuracy: 0.9848 - lr: 2.0000e-04 - 15s/epoch - 15ms/step\n",
      "Epoch 6/20\n",
      "\n",
      "Epoch 6: val_loss improved from 0.05034 to 0.04990, saving model to model.weights.best.hdf5\n",
      "1050/1050 - 16s - loss: 0.0320 - accuracy: 0.9903 - val_loss: 0.0499 - val_accuracy: 0.9838 - lr: 2.0000e-04 - 16s/epoch - 15ms/step\n",
      "Epoch 7/20\n",
      "\n",
      "Epoch 7: val_loss improved from 0.04990 to 0.04318, saving model to model.weights.best.hdf5\n",
      "1050/1050 - 16s - loss: 0.0243 - accuracy: 0.9931 - val_loss: 0.0432 - val_accuracy: 0.9861 - lr: 5.0000e-05 - 16s/epoch - 15ms/step\n",
      "Epoch 8/20\n",
      "\n",
      "Epoch 8: val_loss improved from 0.04318 to 0.04260, saving model to model.weights.best.hdf5\n",
      "1050/1050 - 15s - loss: 0.0227 - accuracy: 0.9936 - val_loss: 0.0426 - val_accuracy: 0.9874 - lr: 5.0000e-05 - 15s/epoch - 15ms/step\n",
      "Epoch 9/20\n",
      "\n",
      "Epoch 9: val_loss did not improve from 0.04260\n",
      "1050/1050 - 16s - loss: 0.0216 - accuracy: 0.9941 - val_loss: 0.0433 - val_accuracy: 0.9867 - lr: 5.0000e-05 - 16s/epoch - 15ms/step\n",
      "Epoch 10/20\n",
      "\n",
      "Epoch 10: val_loss improved from 0.04260 to 0.04141, saving model to model.weights.best.hdf5\n",
      "1050/1050 - 15s - loss: 0.0207 - accuracy: 0.9944 - val_loss: 0.0414 - val_accuracy: 0.9877 - lr: 5.0000e-05 - 15s/epoch - 14ms/step\n",
      "Epoch 11/20\n",
      "\n",
      "Epoch 11: val_loss did not improve from 0.04141\n",
      "1050/1050 - 16s - loss: 0.0186 - accuracy: 0.9952 - val_loss: 0.0418 - val_accuracy: 0.9870 - lr: 1.0000e-05 - 16s/epoch - 16ms/step\n",
      "Epoch 12/20\n",
      "\n",
      "Epoch 12: val_loss did not improve from 0.04141\n",
      "1050/1050 - 16s - loss: 0.0183 - accuracy: 0.9951 - val_loss: 0.0421 - val_accuracy: 0.9865 - lr: 1.0000e-05 - 16s/epoch - 15ms/step\n",
      "Epoch 13/20\n",
      "\n",
      "Epoch 13: val_loss did not improve from 0.04141\n",
      "1050/1050 - 15s - loss: 0.0181 - accuracy: 0.9954 - val_loss: 0.0417 - val_accuracy: 0.9868 - lr: 1.0000e-05 - 15s/epoch - 15ms/step\n",
      "Epoch 14/20\n",
      "\n",
      "Epoch 14: val_loss did not improve from 0.04141\n",
      "1050/1050 - 16s - loss: 0.0179 - accuracy: 0.9955 - val_loss: 0.0421 - val_accuracy: 0.9868 - lr: 1.0000e-05 - 16s/epoch - 15ms/step\n",
      "Epoch 15/20\n",
      "\n",
      "Epoch 15: val_loss did not improve from 0.04141\n",
      "1050/1050 - 17s - loss: 0.0178 - accuracy: 0.9954 - val_loss: 0.0420 - val_accuracy: 0.9863 - lr: 1.0000e-05 - 17s/epoch - 16ms/step\n",
      "Epoch 16/20\n",
      "\n",
      "Epoch 16: val_loss did not improve from 0.04141\n",
      "1050/1050 - 16s - loss: 0.0176 - accuracy: 0.9954 - val_loss: 0.0421 - val_accuracy: 0.9863 - lr: 1.0000e-05 - 16s/epoch - 16ms/step\n",
      "Epoch 17/20\n",
      "\n",
      "Epoch 17: val_loss did not improve from 0.04141\n",
      "1050/1050 - 15s - loss: 0.0174 - accuracy: 0.9954 - val_loss: 0.0419 - val_accuracy: 0.9864 - lr: 1.0000e-05 - 15s/epoch - 15ms/step\n",
      "Epoch 18/20\n",
      "\n",
      "Epoch 18: val_loss did not improve from 0.04141\n",
      "1050/1050 - 15s - loss: 0.0172 - accuracy: 0.9957 - val_loss: 0.0416 - val_accuracy: 0.9865 - lr: 1.0000e-05 - 15s/epoch - 14ms/step\n",
      "Epoch 19/20\n",
      "\n",
      "Epoch 19: val_loss did not improve from 0.04141\n",
      "1050/1050 - 15s - loss: 0.0170 - accuracy: 0.9957 - val_loss: 0.0419 - val_accuracy: 0.9864 - lr: 1.0000e-05 - 15s/epoch - 15ms/step\n",
      "Epoch 20/20\n",
      "\n",
      "Epoch 20: val_loss did not improve from 0.04141\n",
      "1050/1050 - 15s - loss: 0.0168 - accuracy: 0.9957 - val_loss: 0.0416 - val_accuracy: 0.9867 - lr: 1.0000e-05 - 15s/epoch - 15ms/step\n"
     ]
    }
   ],
   "source": [
    "from keras.callbacks import ModelCheckpoint, LearningRateScheduler\n",
    "\n",
    "# set the learning rate decay as utilized in the original 1998 paper: \n",
    "#    .00005 for the first 2 layers \n",
    "#    .0002 for the next 3\n",
    "#    .000005 for the next 4\n",
    "#    .000001 for the rest\n",
    "\n",
    "def lr_schedule(epoch):\n",
    "    if epoch <= 2:     \n",
    "        lr = 5e-4\n",
    "    elif epoch > 2 and epoch <= 5:\n",
    "        lr = 2e-4\n",
    "    elif epoch > 5 and epoch <= 9:\n",
    "        lr = 5e-5\n",
    "    else: \n",
    "        lr = 1e-5\n",
    "    return lr\n",
    "\n",
    "lr_scheduler = LearningRateScheduler(lr_schedule)\n",
    "checkpointer = ModelCheckpoint(filepath='model.weights.best.hdf5', verbose=1, \n",
    "                               save_best_only=True)\n",
    "\n",
    "# train the model\n",
    "hist = model.fit(x_train, y_train, batch_size=32, epochs=20,\n",
    "          validation_data=(x_valid, y_valid), callbacks=[checkpointer, lr_scheduler], \n",
    "          verbose=2, shuffle=True)"
   ]
  },
  {
   "cell_type": "code",
   "execution_count": 13,
   "id": "e90a3565",
   "metadata": {
    "execution": {
     "iopub.execute_input": "2023-06-09T17:14:34.162770Z",
     "iopub.status.busy": "2023-06-09T17:14:34.162273Z",
     "iopub.status.idle": "2023-06-09T17:14:34.194718Z",
     "shell.execute_reply": "2023-06-09T17:14:34.193489Z"
    },
    "papermill": {
     "duration": 0.058469,
     "end_time": "2023-06-09T17:14:34.197496",
     "exception": false,
     "start_time": "2023-06-09T17:14:34.139027",
     "status": "completed"
    },
    "tags": []
   },
   "outputs": [],
   "source": [
    "# load the best weights\n",
    "model.load_weights('model.weights.best.hdf5')"
   ]
  },
  {
   "cell_type": "markdown",
   "id": "75ff3030",
   "metadata": {
    "papermill": {
     "duration": 0.0192,
     "end_time": "2023-06-09T17:14:34.236342",
     "exception": false,
     "start_time": "2023-06-09T17:14:34.217142",
     "status": "completed"
    },
    "tags": []
   },
   "source": [
    "## Calculate accuracy on the validation set"
   ]
  },
  {
   "cell_type": "code",
   "execution_count": 14,
   "id": "e3aff94e",
   "metadata": {
    "execution": {
     "iopub.execute_input": "2023-06-09T17:14:34.278547Z",
     "iopub.status.busy": "2023-06-09T17:14:34.277791Z",
     "iopub.status.idle": "2023-06-09T17:14:36.065410Z",
     "shell.execute_reply": "2023-06-09T17:14:36.063789Z"
    },
    "papermill": {
     "duration": 1.812206,
     "end_time": "2023-06-09T17:14:36.068182",
     "exception": false,
     "start_time": "2023-06-09T17:14:34.255976",
     "status": "completed"
    },
    "tags": []
   },
   "outputs": [
    {
     "name": "stdout",
     "output_type": "stream",
     "text": [
      "Validation accuracy: 98.7738%\n"
     ]
    }
   ],
   "source": [
    "# evaluate test accuracy\n",
    "score = model.evaluate(x_valid, y_valid, verbose=0)\n",
    "accuracy = 100*score[1]\n",
    "\n",
    "# print test accuracy\n",
    "print('Validation accuracy: %.4f%%' % accuracy)\n"
   ]
  },
  {
   "cell_type": "markdown",
   "id": "b0585830",
   "metadata": {
    "papermill": {
     "duration": 0.020053,
     "end_time": "2023-06-09T17:14:36.108893",
     "exception": false,
     "start_time": "2023-06-09T17:14:36.088840",
     "status": "completed"
    },
    "tags": []
   },
   "source": [
    "## Evaluate the model"
   ]
  },
  {
   "cell_type": "code",
   "execution_count": 15,
   "id": "aa133c44",
   "metadata": {
    "execution": {
     "iopub.execute_input": "2023-06-09T17:14:36.150668Z",
     "iopub.status.busy": "2023-06-09T17:14:36.150246Z",
     "iopub.status.idle": "2023-06-09T17:14:36.623209Z",
     "shell.execute_reply": "2023-06-09T17:14:36.622099Z"
    },
    "papermill": {
     "duration": 0.497378,
     "end_time": "2023-06-09T17:14:36.626519",
     "exception": false,
     "start_time": "2023-06-09T17:14:36.129141",
     "status": "completed"
    },
    "tags": []
   },
   "outputs": [
    {
     "data": {
      "image/png": "[encoded data removed]",
      "text/plain": [
       "<Figure size 640x480 with 1 Axes>"
      ]
     },
     "metadata": {},
     "output_type": "display_data"
    }
   ],
   "source": [
    "# plot train and validation accuracy per epoch\n",
    "f, ax = plt.subplots()\n",
    "ax.plot([None] + hist.history['accuracy'], 'o-')\n",
    "ax.plot([None] + hist.history['val_accuracy'], 'x-')\n",
    "# Plot legend and use the best location automatically: loc = 0.\n",
    "ax.legend(['Train acc', 'Validation acc'], loc = 0)\n",
    "ax.set_title('Training and Validation Accuracy per Epoch')\n",
    "ax.set_xlabel('Epoch')\n",
    "ax.set_ylabel('Accuracy')\n",
    "plt.show()"
   ]
  },
  {
   "cell_type": "code",
   "execution_count": 16,
   "id": "ed5996d4",
   "metadata": {
    "execution": {
     "iopub.execute_input": "2023-06-09T17:14:36.668843Z",
     "iopub.status.busy": "2023-06-09T17:14:36.668413Z",
     "iopub.status.idle": "2023-06-09T17:14:37.104146Z",
     "shell.execute_reply": "2023-06-09T17:14:37.102966Z"
    },
    "papermill": {
     "duration": 0.460042,
     "end_time": "2023-06-09T17:14:37.106759",
     "exception": false,
     "start_time": "2023-06-09T17:14:36.646717",
     "status": "completed"
    },
    "tags": []
   },
   "outputs": [
    {
     "data": {
      "image/png": "[encoded data removed]",
      "text/plain": [
       "<Figure size 640x480 with 1 Axes>"
      ]
     },
     "metadata": {},
     "output_type": "display_data"
    }
   ],
   "source": [
    "# plot train and validation loss per epoch\n",
    "f, ax = plt.subplots()\n",
    "ax.plot([None] + hist.history['loss'], 'o-')\n",
    "ax.plot([None] + hist.history['val_loss'], 'x-')\n",
    "\n",
    "# Plot legend and use the best location automatically: loc = 0.\n",
    "ax.legend(['Train loss', \"Val loss\"], loc = 0)\n",
    "ax.set_title('Training and Validation Loss per Epoch')\n",
    "ax.set_xlabel('Epoch')\n",
    "ax.set_ylabel('Loss')\n",
    "plt.show()"
   ]
  },
  {
   "cell_type": "markdown",
   "id": "d817f949",
   "metadata": {
    "papermill": {
     "duration": 0.021274,
     "end_time": "2023-06-09T17:14:37.148927",
     "exception": false,
     "start_time": "2023-06-09T17:14:37.127653",
     "status": "completed"
    },
    "tags": []
   },
   "source": [
    "## Predict on test set and submit "
   ]
  },
  {
   "cell_type": "code",
   "execution_count": 17,
   "id": "492ef1b8",
   "metadata": {
    "execution": {
     "iopub.execute_input": "2023-06-09T17:14:37.193788Z",
     "iopub.status.busy": "2023-06-09T17:14:37.193385Z",
     "iopub.status.idle": "2023-06-09T17:14:43.990372Z",
     "shell.execute_reply": "2023-06-09T17:14:43.989031Z"
    },
    "papermill": {
     "duration": 6.82295,
     "end_time": "2023-06-09T17:14:43.993546",
     "exception": false,
     "start_time": "2023-06-09T17:14:37.170596",
     "status": "completed"
    },
    "tags": []
   },
   "outputs": [
    {
     "name": "stdout",
     "output_type": "stream",
     "text": [
      "875/875 [==============================] - 6s 7ms/step\n"
     ]
    }
   ],
   "source": [
    "y_preds = model.predict(x_test)"
   ]
  },
  {
   "cell_type": "code",
   "execution_count": 18,
   "id": "ddc031d8",
   "metadata": {
    "execution": {
     "iopub.execute_input": "2023-06-09T17:14:44.057497Z",
     "iopub.status.busy": "2023-06-09T17:14:44.056916Z",
     "iopub.status.idle": "2023-06-09T17:14:44.211047Z",
     "shell.execute_reply": "2023-06-09T17:14:44.210017Z"
    },
    "papermill": {
     "duration": 0.18943,
     "end_time": "2023-06-09T17:14:44.213616",
     "exception": false,
     "start_time": "2023-06-09T17:14:44.024186",
     "status": "completed"
    },
    "tags": []
   },
   "outputs": [],
   "source": [
    "# argmax is used to get max values.\n",
    "preds = []\n",
    "for i in range(len(y_preds)):\n",
    "    preds.append(np.argmax(y_preds[i]))"
   ]
  },
  {
   "cell_type": "code",
   "execution_count": 19,
   "id": "5e448c29",
   "metadata": {
    "execution": {
     "iopub.execute_input": "2023-06-09T17:14:44.280408Z",
     "iopub.status.busy": "2023-06-09T17:14:44.279119Z",
     "iopub.status.idle": "2023-06-09T17:14:44.424715Z",
     "shell.execute_reply": "2023-06-09T17:14:44.423549Z"
    },
    "papermill": {
     "duration": 0.181182,
     "end_time": "2023-06-09T17:14:44.427370",
     "exception": false,
     "start_time": "2023-06-09T17:14:44.246188",
     "status": "completed"
    },
    "tags": []
   },
   "outputs": [
    {
     "data": {
      "text/html": [
       "<div>\n",
       "<style scoped>\n",
       "    .dataframe tbody tr th:only-of-type {\n",
       "        vertical-align: middle;\n",
       "    }\n",
       "\n",
       "    .dataframe tbody tr th {\n",
       "        vertical-align: top;\n",
       "    }\n",
       "\n",
       "    .dataframe thead th {\n",
       "        text-align: right;\n",
       "    }\n",
       "</style>\n",
       "<table border=\"1\" class=\"dataframe\">\n",
       "  <thead>\n",
       "    <tr style=\"text-align: right;\">\n",
       "      <th></th>\n",
       "      <th>ImageId</th>\n",
       "      <th>Label</th>\n",
       "    </tr>\n",
       "  </thead>\n",
       "  <tbody>\n",
       "    <tr>\n",
       "      <th>0</th>\n",
       "      <td>1</td>\n",
       "      <td>2</td>\n",
       "    </tr>\n",
       "    <tr>\n",
       "      <th>1</th>\n",
       "      <td>2</td>\n",
       "      <td>0</td>\n",
       "    </tr>\n",
       "    <tr>\n",
       "      <th>2</th>\n",
       "      <td>3</td>\n",
       "      <td>9</td>\n",
       "    </tr>\n",
       "    <tr>\n",
       "      <th>3</th>\n",
       "      <td>4</td>\n",
       "      <td>9</td>\n",
       "    </tr>\n",
       "    <tr>\n",
       "      <th>4</th>\n",
       "      <td>5</td>\n",
       "      <td>3</td>\n",
       "    </tr>\n",
       "  </tbody>\n",
       "</table>\n",
       "</div>"
      ],
      "text/plain": [
       "   ImageId  Label\n",
       "0        1      2\n",
       "1        2      0\n",
       "2        3      9\n",
       "3        4      9\n",
       "4        5      3"
      ]
     },
     "execution_count": 19,
     "metadata": {},
     "output_type": "execute_result"
    }
   ],
   "source": [
    "ss.Label = preds\n",
    "ss.head()"
   ]
  },
  {
   "cell_type": "code",
   "execution_count": 20,
   "id": "1d6ab617",
   "metadata": {
    "execution": {
     "iopub.execute_input": "2023-06-09T17:14:44.494037Z",
     "iopub.status.busy": "2023-06-09T17:14:44.493602Z",
     "iopub.status.idle": "2023-06-09T17:14:44.564349Z",
     "shell.execute_reply": "2023-06-09T17:14:44.563439Z"
    },
    "papermill": {
     "duration": 0.105986,
     "end_time": "2023-06-09T17:14:44.567010",
     "exception": false,
     "start_time": "2023-06-09T17:14:44.461024",
     "status": "completed"
    },
    "tags": []
   },
   "outputs": [],
   "source": [
    "ss.to_csv('submission.csv',index=False)"
   ]
  },
  {
   "cell_type": "markdown",
   "id": "73a0f4cc",
   "metadata": {
    "papermill": {
     "duration": 0.031113,
     "end_time": "2023-06-09T17:14:44.629558",
     "exception": false,
     "start_time": "2023-06-09T17:14:44.598445",
     "status": "completed"
    },
    "tags": []
   },
   "source": [
    "<b>The LeNet-5 architecture scores 98.8% validation accuracy."
   ]
  },
  {
   "cell_type": "code",
   "execution_count": null,
   "id": "20f897f5",
   "metadata": {
    "papermill": {
     "duration": 0.032156,
     "end_time": "2023-06-09T17:14:44.693661",
     "exception": false,
     "start_time": "2023-06-09T17:14:44.661505",
     "status": "completed"
    },
    "tags": []
   },
   "outputs": [],
   "source": []
  }
 ],
 "metadata": {
  "kernelspec": {
   "display_name": "Python 3",
   "language": "python",
   "name": "python3"
  },
  "language_info": {
   "codemirror_mode": {
    "name": "ipython",
    "version": 3
   },
   "file_extension": ".py",
   "mimetype": "text/x-python",
   "name": "python",
   "nbconvert_exporter": "python",
   "pygments_lexer": "ipython3",
   "version": "3.10.10"
  },
  "papermill": {
   "default_parameters": {},
   "duration": 366.988369,
   "end_time": "2023-06-09T17:14:48.414342",
   "environment_variables": {},
   "exception": null,
   "input_path": "__notebook__.ipynb",
   "output_path": "__notebook__.ipynb",
   "parameters": {},
   "start_time": "2023-06-09T17:08:41.425973",
   "version": "2.4.0"
  }
 },
 "nbformat": 4,
 "nbformat_minor": 5
}
